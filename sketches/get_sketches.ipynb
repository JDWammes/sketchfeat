{
 "cells": [
  {
   "cell_type": "code",
   "execution_count": null,
   "metadata": {
    "collapsed": true
   },
   "outputs": [],
   "source": [
    "# jefan 8/28/17\n",
    "# purpose: extract training phase metadata and sketches produced by participants\n",
    "# in fMRI training study (aka 'neurosketch')"
   ]
  },
  {
   "cell_type": "code",
   "execution_count": null,
   "metadata": {
    "collapsed": true
   },
   "outputs": [],
   "source": [
    "from __future__ import division\n",
    "import numpy as np\n",
    "from numpy import *\n",
    "import os\n",
    "import PIL\n",
    "from PIL import Image\n",
    "import base64\n",
    "import matplotlib\n",
    "from matplotlib import pylab, mlab, pyplot\n",
    "%matplotlib inline\n",
    "from IPython.core.pylabtools import figsize, getfigs\n",
    "plt = pyplot\n",
    "import seaborn as sns\n",
    "sns.set_context('poster')\n",
    "sns.set_style('white')\n",
    "from matplotlib.path import Path\n",
    "import matplotlib.patches as patches\n",
    "from skimage import data, io, filters\n",
    "import cStringIO\n",
    "import pandas as pd\n",
    "import pymongo as pm ## first establish ssh tunnel to Amazon EC2 instance"
   ]
  },
  {
   "cell_type": "code",
   "execution_count": null,
   "metadata": {
    "collapsed": true
   },
   "outputs": [],
   "source": [
    "# load in experimental design pickle file\n",
    "import cPickle\n",
    "mdtd = cPickle.load(open('morph_drawing_training_design.pkl'))"
   ]
  },
  {
   "cell_type": "code",
   "execution_count": null,
   "metadata": {
    "collapsed": false
   },
   "outputs": [],
   "source": [
    "# mongo globals\n",
    "conn = pm.MongoClient(port=20809)\n",
    "DBNAME = conn['during_morph_drawing_recognition']\n",
    "COLNAME = DBNAME['fmri3.files']\n",
    "coll=COLNAME\n",
    "DATADIR = 'neurosketch_data_3'"
   ]
  },
  {
   "cell_type": "code",
   "execution_count": null,
   "metadata": {
    "collapsed": false
   },
   "outputs": [],
   "source": [
    "# get worker list\n",
    "import get_metadata as gm\n",
    "reload(gm)\n",
    "workers = gm.get_worker_list()\n",
    "print workers\n",
    "print 'We have records on ' + str(len(workers)) + ' participants.'"
   ]
  },
  {
   "cell_type": "code",
   "execution_count": null,
   "metadata": {
    "collapsed": false
   },
   "outputs": [],
   "source": [
    "for w in workers:\n",
    "    try:\n",
    "        print 'Now analyzing ' + w + ' ...'\n",
    "        # retrieve this participant's records from mongo\n",
    "        these = coll.find({'wID': w}).sort('trialNum')   \n",
    "\n",
    "        wID = []\n",
    "        phase = []\n",
    "        version = []\n",
    "        category = []\n",
    "        viewpoint = []\n",
    "        trial = []\n",
    "        trialDuration = []\n",
    "        target = []\n",
    "        competitor = []\n",
    "        svgString = []\n",
    "        pngString = []\n",
    "\n",
    "        # loop through training trials and save relevant metadata\n",
    "        for this in these:\n",
    "            if this['phase']=='training':\n",
    "                wID.append(this['wID'])\n",
    "                phase.append(this['phase'])\n",
    "                version.append(int(this['versionNum']))\n",
    "                category.append(this['category'])\n",
    "                viewpoint.append(int(this['viewpoint']))\n",
    "                trial.append(int(this['trialNum']))\n",
    "                trialDuration.append(float(this['trialDuration']))\n",
    "                _target = gm.get_object_name(2,gm.get_object_index(this['morphline'],this['morphnum']))\n",
    "                target.append(_target)\n",
    "                trained_set = gm.getEndpoints(this['morphline'])\n",
    "                _competitor = [i for i in trained_set if i != _target]\n",
    "                competitor.append(_competitor[0])\n",
    "                svgString.append(this['json'])\n",
    "                pngString.append(this['imgData'])\n",
    "        ## make pandas dataframe to store metadata\n",
    "        X = pd.DataFrame([wID,phase,version,category,viewpoint,trial,trialDuration,\n",
    "                         target,competitor,svgString,pngString])\n",
    "        X = X.transpose()\n",
    "        X.columns = ['wID','phase','version','category','viewpoint','trial','trialDuration',\n",
    "                    'target','competitor','svgString','pngString']\n",
    "\n",
    "        ## save out dataframe to csv\n",
    "        pathdir = os.path.join('data',w)\n",
    "        ## save out image as png\n",
    "        if not os.path.exists(pathdir):\n",
    "            os.makedirs(pathdir)\n",
    "        fname = w + '_metadata.csv'\n",
    "        filepath = os.path.join(pathdir,fname)\n",
    "        X.to_csv(filepath)  \n",
    "        ## loop through all sketches and save out as png's in subject specific folders\n",
    "        for t in trial:\n",
    "            imgData = X[X['trial']==t].pngString.values[0]\n",
    "            im = Image.open(cStringIO.StringIO(base64.b64decode(imgData)))\n",
    "            fig = plt.figure(figsize=(8,8))\n",
    "            p = plt.subplot(1,1,1)\n",
    "            plt.imshow(im)\n",
    "            k = p.get_xaxis().set_ticklabels([])\n",
    "            k = p.get_yaxis().set_ticklabels([])\n",
    "            k = p.get_xaxis().set_ticks([])\n",
    "            k = p.get_yaxis().set_ticks([])\n",
    "            for spine in plt.gca().spines.values():\n",
    "                spine.set_visible(False)\n",
    "            pathdir = os.path.join('data',X[X['trial']==t].wID.values[0])\n",
    "            ## save out image as png\n",
    "            if not os.path.exists(pathdir):\n",
    "                os.makedirs(pathdir)\n",
    "            fname = X[X['trial']==t].wID.values[0]  + '_trial_' + \\\n",
    "            str(X[X['trial']==t].trial.values[0]) + '_' + X[X['trial']==t].target.values[0]\n",
    "            filepath = os.path.join(pathdir,fname)\n",
    "            print 'Saving to ' + filepath\n",
    "            fig.savefig(filepath+'.png',bbox_inches='tight')  \n",
    "            plt.close(fig)\n",
    "    except:\n",
    "        print('Something went wrong with subject ' + w)"
   ]
  },
  {
   "cell_type": "code",
   "execution_count": null,
   "metadata": {
    "collapsed": false
   },
   "outputs": [],
   "source": []
  },
  {
   "cell_type": "code",
   "execution_count": null,
   "metadata": {
    "collapsed": false
   },
   "outputs": [],
   "source": []
  },
  {
   "cell_type": "code",
   "execution_count": null,
   "metadata": {
    "collapsed": false
   },
   "outputs": [],
   "source": []
  },
  {
   "cell_type": "code",
   "execution_count": null,
   "metadata": {
    "collapsed": false
   },
   "outputs": [],
   "source": []
  },
  {
   "cell_type": "code",
   "execution_count": null,
   "metadata": {
    "collapsed": true
   },
   "outputs": [],
   "source": []
  }
 ],
 "metadata": {
  "kernelspec": {
   "display_name": "Python 2",
   "language": "python",
   "name": "python2"
  },
  "language_info": {
   "codemirror_mode": {
    "name": "ipython",
    "version": 2
   },
   "file_extension": ".py",
   "mimetype": "text/x-python",
   "name": "python",
   "nbconvert_exporter": "python",
   "pygments_lexer": "ipython2",
   "version": "2.7.12"
  }
 },
 "nbformat": 4,
 "nbformat_minor": 0
}
