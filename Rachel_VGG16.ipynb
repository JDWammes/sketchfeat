{
 "cells": [
  {
   "cell_type": "code",
   "execution_count": 51,
   "metadata": {},
   "outputs": [],
   "source": [
    "#dependencies\n",
    "\n",
    "import numpy as np\n",
    "import tensorflow as tf\n",
    "\n",
    "import vgg16\n",
    "import utils\n",
    "\n",
    "######### constants\n",
    "# required vgg image sizes \n",
    "VGG_SIZE_X = 224\n",
    "VGG_SIZE_Y = 224\n",
    "VGG_SIZE_Z = 3\n",
    "\n",
    "# constants for the images\n",
    "NUM_VIEWS = 40 \n"
   ]
  },
  {
   "cell_type": "code",
   "execution_count": null,
   "metadata": {
    "collapsed": true
   },
   "outputs": [],
   "source": [
    "\n",
    "# to test how the utils.load_image was cutting the image off \n",
    "%matplotlib inline\n",
    "from scipy.misc import imread, imresize\n",
    "import matplotlib.pyplot as plt\n",
    "import matplotlib.image as mpimg\n"
   ]
  },
  {
   "cell_type": "code",
   "execution_count": 45,
   "metadata": {},
   "outputs": [
    {
     "data": {
      "image/png": "[encoded data removed]",
      "text/plain": [
       "<matplotlib.figure.Figure at 0x1193431d0>"
      ]
     },
     "metadata": {},
     "output_type": "display_data"
    }
   ],
   "source": [
    "img1 = utils.load_image(\"./test_data/limoToSUV_40_15.png.png\")\n",
    "\n",
    "batch1 = img1.reshape((1, 224, 224, 3))\n",
    "\n",
    "\n",
    "imgplot = plt.imshow(img1)"
   ]
  },
  {
   "cell_type": "code",
   "execution_count": 52,
   "metadata": {},
   "outputs": [],
   "source": [
    "# to upload multiple images\n",
    "\n",
    "cars = ['limoToSUV_10','limoToSUV_99','smartToSedan_10','smartToSedan_99'];\n",
    "\n",
    "batch = np.empty((0, VGG_SIZE_X, VGG_SIZE_Y, VGG_SIZE_Z), float)\n",
    "for car in cars:  \n",
    "    for view in xrange(0,NUM_VIEWS):\n",
    "        imgloc ='https://s3.amazonaws.com/morphrecog-images-1/' + car + '_' + str(view) + '.png.png'\n",
    "        img = utils.load_image(imgloc)\n",
    "        img = img.reshape(1, VGG_SIZE_X, VGG_SIZE_Y, VGG_SIZE_Z)\n",
    "        batch = np.concatenate((batch, img))\n",
    "        \n",
    "\n",
    "        \n",
    "    \n"
   ]
  },
  {
   "cell_type": "code",
   "execution_count": 55,
   "metadata": {},
   "outputs": [
    {
     "name": "stdout",
     "output_type": "stream",
     "text": [
      "160\n",
      "4\n"
     ]
    }
   ],
   "source": [
    "# smaller batch for testing first\n",
    "print batch.shape[0]\n",
    "batch_mini = batch[:4,:,:,:]\n",
    "print batch_mini.shape[0]\n",
    "\n"
   ]
  },
  {
   "cell_type": "code",
   "execution_count": 58,
   "metadata": {},
   "outputs": [
    {
     "name": "stdout",
     "output_type": "stream",
     "text": [
      "/Users/sasha/Documents/sketchfeat/vgg16.npy\n",
      "npy file loaded\n",
      "build model started\n",
      "build model finished: 1s\n",
      "('Top1: ', 'n06874185 traffic light, traffic signal, stoplight', 0.14844851)\n",
      "('Top5: ', [('n06874185 traffic light, traffic signal, stoplight', 0.14844851), ('n03888257 parachute, chute', 0.11877364), ('n06794110 street sign', 0.063110836), ('n03196217 digital clock', 0.060147222), ('n02692877 airship, dirigible', 0.050069682)])\n",
      "('Top1: ', 'n03888257 parachute, chute', 0.43788561)\n",
      "('Top5: ', [('n03888257 parachute, chute', 0.43788561), ('n02692877 airship, dirigible', 0.17984077), ('n02782093 balloon', 0.064152762), ('n03355925 flagpole, flagstaff', 0.042272761), ('n06794110 street sign', 0.025429426)])\n",
      "('Top1: ', 'n03888257 parachute, chute', 0.65431124)\n",
      "('Top5: ', [('n03888257 parachute, chute', 0.65431124), ('n02692877 airship, dirigible', 0.16452527), ('n02782093 balloon', 0.022425178), ('n03355925 flagpole, flagstaff', 0.016613873), ('n04592741 wing', 0.012945722)])\n",
      "('Top1: ', 'n03888257 parachute, chute', 0.84673482)\n",
      "('Top5: ', [('n03888257 parachute, chute', 0.84673482), ('n02692877 airship, dirigible', 0.076631092), ('n03355925 flagpole, flagstaff', 0.00551057), ('n03126707 crane', 0.0049214717), ('n02782093 balloon', 0.0046248073)])\n"
     ]
    },
    {
     "ename": "IndexError",
     "evalue": "index 4 is out of bounds for axis 0 with size 4",
     "output_type": "error",
     "traceback": [
      "\u001b[0;31m---------------------------------------------------------------------------\u001b[0m",
      "\u001b[0;31mIndexError\u001b[0m                                Traceback (most recent call last)",
      "\u001b[0;32m<ipython-input-58-b92a408c2857>\u001b[0m in \u001b[0;36m<module>\u001b[0;34m()\u001b[0m\n\u001b[1;32m     13\u001b[0m         \u001b[0;31m# print(prob)\u001b[0m\u001b[0;34m\u001b[0m\u001b[0;34m\u001b[0m\u001b[0m\n\u001b[1;32m     14\u001b[0m         \u001b[0;32mfor\u001b[0m \u001b[0mi\u001b[0m \u001b[0;32min\u001b[0m \u001b[0mxrange\u001b[0m\u001b[0;34m(\u001b[0m\u001b[0;36m0\u001b[0m\u001b[0;34m,\u001b[0m \u001b[0mbatch\u001b[0m\u001b[0;34m.\u001b[0m\u001b[0mshape\u001b[0m\u001b[0;34m[\u001b[0m\u001b[0;36m0\u001b[0m\u001b[0;34m]\u001b[0m\u001b[0;34m)\u001b[0m\u001b[0;34m:\u001b[0m\u001b[0;34m\u001b[0m\u001b[0m\n\u001b[0;32m---> 15\u001b[0;31m             \u001b[0mutils\u001b[0m\u001b[0;34m.\u001b[0m\u001b[0mprint_prob\u001b[0m\u001b[0;34m(\u001b[0m\u001b[0mprob\u001b[0m\u001b[0;34m[\u001b[0m\u001b[0mi\u001b[0m\u001b[0;34m]\u001b[0m\u001b[0;34m,\u001b[0m \u001b[0;34m'./synset.txt'\u001b[0m\u001b[0;34m)\u001b[0m\u001b[0;34m\u001b[0m\u001b[0m\n\u001b[0m\u001b[1;32m     16\u001b[0m \u001b[0;34m\u001b[0m\u001b[0m\n\u001b[1;32m     17\u001b[0m \u001b[0;34m\u001b[0m\u001b[0m\n",
      "\u001b[0;31mIndexError\u001b[0m: index 4 is out of bounds for axis 0 with size 4"
     ]
    }
   ],
   "source": [
    "# with tf.Session(config=tf.ConfigProto(gpu_options=(tf.GPUOptions(per_process_gpu_memory_fraction=0.7)))) as sess:\n",
    "with tf.device('/cpu:0'):\n",
    "    with tf.Session() as sess:\n",
    "        image = tf.placeholder(\"float\", [batch_mini.shape[0], VGG_SIZE_X, VGG_SIZE_Y, VGG_SIZE_Z])\n",
    "\n",
    "        feed_dict = {image: batch_mini}\n",
    "\n",
    "        vgg = vgg16.Vgg16()\n",
    "        with tf.name_scope(\"content_vgg\"):\n",
    "            vgg.build(image)\n",
    "\n",
    "        prob = sess.run(vgg.prob, feed_dict=feed_dict)\n",
    "        # print(prob)\n",
    "        for i in xrange(0, batch_mini.shape[0]):\n",
    "            utils.print_prob(prob[i], './synset.txt')\n",
    "        \n",
    "       \n",
    "\n",
    "    "
   ]
  },
  {
   "cell_type": "code",
   "execution_count": null,
   "metadata": {
    "collapsed": true
   },
   "outputs": [],
   "source": []
  }
 ],
 "metadata": {
  "kernelspec": {
   "display_name": "Python 2",
   "language": "python",
   "name": "python2"
  },
  "language_info": {
   "codemirror_mode": {
    "name": "ipython",
    "version": 2
   },
   "file_extension": ".py",
   "mimetype": "text/x-python",
   "name": "python",
   "nbconvert_exporter": "python",
   "pygments_lexer": "ipython2",
   "version": "2.7.13"
  }
 },
 "nbformat": 4,
 "nbformat_minor": 2
}
