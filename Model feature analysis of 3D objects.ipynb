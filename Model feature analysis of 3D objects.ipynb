{
 "cells": [
  {
   "cell_type": "markdown",
   "metadata": {},
   "source": [
    "# Model feature analysis of 3D objects\n",
    "\n",
    "As a starting point, we extract features of the stimuli we used in the neurosketch study: four cars, four furniture items.\n",
    "We use VGG16 as our feature extractor.  This will allow us to directly relate these object stimuli to our sketch data using the same feature embedding. Later, we will use these embeddings to connect to the neural data. \n"
   ]
  },
  {
   "cell_type": "code",
   "execution_count": 5,
   "metadata": {
    "collapsed": true
   },
   "outputs": [],
   "source": [
    "# here are some set up code to ignore \n",
    "import numpy as np\n",
    "import utils\n",
    "import pickle\n",
    "import scipy\n",
    "from sklearn import linear_model, datasets, neighbors\n",
    "from sklearn.model_selection import train_test_split\n",
    "\n",
    "\n",
    "\n",
    "%matplotlib inline\n",
    "from scipy.misc import imread, imresize\n",
    "import matplotlib.pyplot as plt\n",
    "import matplotlib.image as mpimg"
   ]
  },
  {
   "cell_type": "code",
   "execution_count": 6,
   "metadata": {
    "collapsed": true
   },
   "outputs": [],
   "source": [
    "# Constants \n",
    "\n",
    "# I pulled activations of 8 layers. Here is the index ref to the layers\n",
    "LAYERS = {'pool1': 0, 'pool2': 1, 'pool3': 2, 'pool4': 3,\n",
    "          'pool5': 4, 'fc6': 5, 'fc7': 6, 'prob': 7}\n",
    "\n",
    "# constants for the images\n",
    "NUM_VIEWS = 40\n",
    "CARS = ['limo', 'suv', 'smart', 'sedan']\n",
    "FURNITURES = ['bed', 'chair', 'table', 'bench']\n",
    "OBJECTS = CARS + FURNITURES\n",
    "# sample image url: https://s3.amazonaws.com/morphrecog-images-1/limoToSUV_10_10_99.png.png\n",
    "# CARS_label = ['limoToSUV_10','limoToSUV_99','smartToSedan_10','smartToSedan_99'];\n",
    "# FIURNITURES_label = ['bedChair_1', 'bedChair_100', 'tableBench_1', 'tableBench_100']\n",
    "\n",
    " \n",
    "\n",
    "# constants for train/test for the linear discriminability\n",
    "TRAIN_SZ = 0.80\n",
    "TEST_SZ = 1 - TRAIN_SZ\n"
   ]
  },
  {
   "cell_type": "code",
   "execution_count": 7,
   "metadata": {
    "collapsed": true
   },
   "outputs": [],
   "source": [
    "# pulling/cleaning up the data\n",
    "\n",
    "# downloading the activations. I had to split the sample (each act has 160 images) because they're about 3GB each. \n",
    "act1 = pickle.load(open('activations.p', 'rb'))\n",
    "act2 = pickle.load(open('activations2.p', 'rb'))"
   ]
  },
  {
   "cell_type": "code",
   "execution_count": 8,
   "metadata": {
    "collapsed": true
   },
   "outputs": [],
   "source": [
    "# pulling out all the fc6, fc7 layers for all images to have a smaller set to work with. \n",
    "fc6 = np.vstack((np.asarray(act1[LAYERS['fc6']]), np.asarray(act2[LAYERS['fc6']])))\n",
    "fc7 = np.vstack((np.asarray(act1[LAYERS['fc7']]), np.asarray(act2[LAYERS['fc7']])))\n",
    "\n",
    "\n",
    "# pulling out remaining pooling layers\n",
    "pool = [] \n",
    "\n",
    "for i in xrange(0,5):\n",
    "    pool1_i, pool2_i = np.asarray(act1[i]), np.asarray(act2[i])\n",
    "\n",
    "    pool_i = np.vstack((pool1_i.reshape(pool1_i.shape[0], pool1_i.shape[1] * pool1_i.shape[2] * pool1_i.shape[3]), \n",
    "                     pool2_i.reshape(pool2_i.shape[0], pool2_i.shape[1] * pool2_i.shape[2] * pool2_i.shape[3])))\n",
    "    pool.append(pool_i)\n",
    "\n"
   ]
  },
  {
   "cell_type": "markdown",
   "metadata": {},
   "source": [
    "## 1. Representational Similarity Analysis\n",
    "\n",
    "We want to relate the model's feature representation of the actual 3D objects participants viewed to its representation of the sketches people produced during training. As a first step, we analyze the category-level and object-level similarity for the 3D objects, at each layer of VGG.\n",
    "\n",
    "\n",
    "\n"
   ]
  },
  {
   "cell_type": "code",
   "execution_count": 73,
   "metadata": {
    "collapsed": true
   },
   "outputs": [],
   "source": [
    "# getMeanVector gets the mean vector across number of views for num_objects \n",
    "def getMeanVector(full_batch, num_views, num_objects):\n",
    "    meanVector = np.empty((num_objects, full_batch.shape[1]), float)\n",
    "    for i in xrange(0, num_objects):\n",
    "        # pull out the views of the particular object \n",
    "        all_views = full_batch[i * num_views: (i + 1) * num_views, :]\n",
    "        meanVector[i,:] = np.mean(all_views, axis = 0)\n",
    "\n",
    "    \n",
    "    return meanVector"
   ]
  },
  {
   "cell_type": "markdown",
   "metadata": {},
   "source": [
    "To do this, we extract one feature vector for each of the 40 views of each object, take the mean vector within object, and compute the correlations between these mean vectors. We use raw activations for this analysis. This yields an 8x8 correlation matrix for each VGG layer."
   ]
  },
  {
   "cell_type": "code",
   "execution_count": 74,
   "metadata": {},
   "outputs": [],
   "source": [
    "RDM_fc7 = np.corrcoef(getMeanVector(fc7, NUM_VIEWS, len(OBJECTS))) \n",
    "RDM_fc6 = np.corrcoef(getMeanVector(fc6, NUM_VIEWS, len(OBJECTS))) \n",
    "\n",
    "RDM_pool = []\n",
    "for pool_layer in xrange(0,5):\n",
    "    RDM_pool_i = np.corrcoef(getMeanVector(pool[i], NUM_VIEWS, len(OBJECTS)))\n",
    "    RDM_pool.append(RDM_pool_i)\n"
   ]
  },
  {
   "cell_type": "code",
   "execution_count": 75,
   "metadata": {},
   "outputs": [
    {
     "name": "stdout",
     "output_type": "stream",
     "text": [
      "['limo', 'suv', 'smart', 'sedan', 'bed', 'chair', 'table', 'bench']\n"
     ]
    },
    {
     "data": {
      "image/png": "[encoded data removed]",
      "text/plain": [
       "<matplotlib.figure.Figure at 0x16b849f90>"
      ]
     },
     "metadata": {},
     "output_type": "display_data"
    }
   ],
   "source": [
    "fig = plt.figure(1,  figsize=(15, 5), dpi=80, facecolor='w', edgecolor='k')\n",
    "\n",
    "\n",
    "for pool_layer in xrange(0,5):\n",
    "    pltname = \"Pool \" + str(pool_layer + 1)\n",
    "    plt.subplot(1, 5, pool_layer + 1)\n",
    "    plt.title(pltname)\n",
    "    plt.imshow(RDM_pool[i])\n",
    "\n",
    "print OBJECTS\n",
    "# plt.subplot(336)\n",
    "# plt.imshow(RDM_fc7)\n",
    "\n",
    "# plt.subplot(337)\n",
    "# plt.imshow(RDM_fc6)\n",
    "\n",
    "cax = fig.add_axes([0.12, 0.1, 0.78, 0.4])\n",
    "cax.get_xaxis().set_visible(False)\n",
    "cax.get_yaxis().set_visible(False)\n",
    "cax.patch.set_alpha(0)\n",
    "cax.set_frame_on(False)\n",
    "plt.colorbar(orientation='horizontal', ax=cax)\n",
    "plt.show()"
   ]
  },
  {
   "cell_type": "code",
   "execution_count": 76,
   "metadata": {},
   "outputs": [
    {
     "name": "stdout",
     "output_type": "stream",
     "text": [
      "If the fc6 and fc7 RDM look similar, they are-- note:\n",
      "Taking the difference between RDM of pooling layers, we have: 0.0\n",
      "(8, 802816)\n",
      "here we have(8, 401408)\n",
      "(320, 401408)\n",
      "(320, 802816)\n"
     ]
    }
   ],
   "source": [
    "print \"If the fc6 and fc7 RDM look similar, they are-- note:\"\n",
    "# print \"Taking the difference between fc6 and fc7, we have: \"  + str((pool[0] - pool[1]).max())\n",
    "print \"Taking the difference between RDM of pooling layers, we have: \" + str((RDM_pool[0] - RDM_pool[1]).max())\n",
    "\n",
    "print getMeanVector(pool[0], NUM_VIEWS, len(OBJECTS)).shape\n",
    "print \"here we have\" + str(getMeanVector(pool[1], NUM_VIEWS, len(OBJECTS)).shape)\n",
    "\n",
    "print pool[1].shape\n",
    "print pool[0].shape"
   ]
  },
  {
   "cell_type": "code",
   "execution_count": 12,
   "metadata": {},
   "outputs": [
    {
     "name": "stdout",
     "output_type": "stream",
     "text": [
      "If the fc6 and fc7 RDM look similar, they are-- note:\n",
      "Taking the difference between fc6 and fc7, we have: 32.3581\n",
      "Taking the difference between RDM of fc6 and fc7, we have: 0.0470156385361\n"
     ]
    }
   ],
   "source": [
    "print \"If the fc6 and fc7 RDM look similar, they are-- note:\"\n",
    "print \"Taking the difference between fc6 and fc7, we have: \"  + str((fc6 - fc7).max())\n",
    "print \"Taking the difference between RDM of fc6 and fc7, we have: \" + str((RDM_fc6 - RDM_fc7).max())"
   ]
  }
 ],
 "metadata": {
  "kernelspec": {
   "display_name": "Python 2",
   "language": "python",
   "name": "python2"
  },
  "language_info": {
   "codemirror_mode": {
    "name": "ipython",
    "version": 2
   },
   "file_extension": ".py",
   "mimetype": "text/x-python",
   "name": "python",
   "nbconvert_exporter": "python",
   "pygments_lexer": "ipython2",
   "version": "2.7.13"
  }
 },
 "nbformat": 4,
 "nbformat_minor": 2
}
