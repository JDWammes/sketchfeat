{
 "cells": [
  {
   "cell_type": "code",
   "execution_count": 1,
   "metadata": {},
   "outputs": [],
   "source": [
    "## make sure you're connected to database (as of 10/12/17, is hosted on kanefsky)\n",
    "from __future__ import division\n",
    "\n",
    "import pymongo as pm\n",
    "conn = pm.MongoClient(port=20809)\n",
    "\n",
    "import numpy as np\n",
    "import matplotlib\n",
    "from matplotlib import pylab, mlab, pyplot\n",
    "plt = pyplot\n",
    "import seaborn as sns\n",
    "\n",
    "import gridfs\n",
    "from PIL import Image\n",
    "import base64\n",
    "\n",
    "\n",
    "import pandas as pd\n",
    "import json\n",
    "\n",
    "from IPython.core.pylabtools import figsize, getfigs\n",
    "\n",
    "%matplotlib inline\n",
    "from pylab import *\n",
    "from numpy import *\n",
    "\n",
    "# append to path\n",
    "sys.path.append('./sketches')\n",
    "from preprocessing_utils import *"
   ]
  },
  {
   "cell_type": "code",
   "execution_count": 2,
   "metadata": {
    "collapsed": true
   },
   "outputs": [],
   "source": [
    "# define directory where baseline sketches will be saved out\n",
    "save_dir = 'baseline_sketches'\n",
    "if not os.path.exists(save_dir):\n",
    "    os.makedirs(save_dir)"
   ]
  },
  {
   "cell_type": "code",
   "execution_count": 3,
   "metadata": {
    "collapsed": true
   },
   "outputs": [],
   "source": [
    "# mongo globals\n",
    "conn = pm.MongoClient(port=20809)\n",
    "DBNAME = conn['during_car_furniture_morphsketch']\n",
    "COLNAME = DBNAME['baseline_physical.files']\n",
    "coll=COLNAME"
   ]
  },
  {
   "cell_type": "code",
   "execution_count": 4,
   "metadata": {},
   "outputs": [
    {
     "name": "stdout",
     "output_type": "stream",
     "text": [
      "146\n"
     ]
    }
   ],
   "source": [
    "# define database connections -- how many workers?\n",
    "db = conn['during_car_furniture_morphsketch']['baseline_physical.files']\n",
    "dbe = conn['end_car_furniture_morphsketch']['baseline_physical']\n",
    "workers = dbe.find({'WorkerID': {'$exists': True, '$ne':''}}).distinct('WorkerID')                                                       \n",
    "workers = [w for w in workers if len(workers)>0]\n",
    "print len(workers)"
   ]
  },
  {
   "cell_type": "code",
   "execution_count": 5,
   "metadata": {
    "collapsed": true
   },
   "outputs": [],
   "source": [
    "### List of workers & images that are not up to snuff\n",
    "# good workers\n",
    "good_workers = ['A1UNJWWSAB1D59','A1GXFMAC759VRM','A2ADEPVGNNXNPA']\n",
    "# bad workers\n",
    "bad_workers = ['A1A3TGZ7DKJWRW','A1EAEZ7VIHKQ2','A1A70T3F5D0A6E']\n",
    "# bad sketch_id's (if there were cross outs, or blanks)\n",
    "bad_ids = ['561297c18094844cae9f0728','5612975c8094844cae9f0718','561299c18094844cae9f076e','5611e4f78094844cae9f04b8','5612f00d8094844cae9f0aae','5612ed678094844cae9f0a94','561474228094844cae9f1f54']"
   ]
  },
  {
   "cell_type": "code",
   "execution_count": 6,
   "metadata": {},
   "outputs": [],
   "source": [
    "## Render out furniture sketches\n",
    "import urllib, cStringIO\n",
    "furniture = ['bedChair', 'bedTable', 'benchBed', 'chairBench','chairTable', 'tableBench']\n",
    "fs = gridfs.GridFS(conn['during_car_furniture_morphsketch'], 'baseline_physical')\n",
    "\n",
    "## endpoint morphnums\n",
    "morphlines = db.find({'$and': [{'morphline':{'$exists': True}}, {'category':'furniture'}]}).distinct('morphline')\n",
    "all_morphnums = db.find({'$and': [{'morphline':{'$exists': True}}, {'category':'furniture'}]}).distinct('morphnum')\n",
    "morphnums = ['0','99']\n",
    "viewpoints = db.find({'$and': [{'viewpoint':{'$exists': True}}, {'category':'furniture'}]}).distinct('viewpoint')\n"
   ]
  },
  {
   "cell_type": "code",
   "execution_count": null,
   "metadata": {},
   "outputs": [],
   "source": []
  },
  {
   "cell_type": "code",
   "execution_count": 8,
   "metadata": {
    "scrolled": true
   },
   "outputs": [
    {
     "name": "stdout",
     "output_type": "stream",
     "text": [
      "chairBench 0 30 5\n",
      "chairBench 0 15 25\n",
      "chairBench 0 25 29\n",
      "chairBench 0 20 4\n",
      "chairBench 0 0 4\n",
      "chairBench 0 10 5\n",
      "chairBench 0 35 28\n",
      "chairBench 0 5 28\n",
      "chairBench 99 30 5\n",
      "chairBench 99 15 25\n",
      "chairBench 99 25 28\n",
      "chairBench 99 20 5\n",
      "chairBench 99 0 6\n",
      "chairBench 99 10 6\n",
      "chairBench 99 35 30\n",
      "chairBench 99 5 25\n",
      "tableBench 0 30 5\n",
      "tableBench 0 15 29\n",
      "tableBench 0 25 26\n",
      "tableBench 0 20 4\n",
      "tableBench 0 0 5\n",
      "tableBench 0 10 5\n",
      "tableBench 0 35 25\n",
      "tableBench 0 5 27\n",
      "tableBench 99 30 8\n",
      "tableBench 99 15 27\n",
      "tableBench 99 25 26\n",
      "tableBench 99 20 5\n",
      "tableBench 99 0 5\n",
      "tableBench 99 10 5\n",
      "tableBench 99 35 29\n",
      "tableBench 99 5 28\n",
      "chairTable 0 30 5\n",
      "chairTable 0 15 26\n",
      "chairTable 0 25 26\n",
      "chairTable 0 20 4\n",
      "chairTable 0 0 6\n",
      "chairTable 0 10 4\n",
      "chairTable 0 35 27\n",
      "chairTable 0 5 29\n",
      "chairTable 99 30 5\n",
      "chairTable 99 15 29\n",
      "chairTable 99 25 29\n",
      "chairTable 99 20 5\n",
      "chairTable 99 0 5\n",
      "chairTable 99 10 5\n",
      "chairTable 99 35 27\n",
      "chairTable 99 5 27\n",
      "bedTable 0 30 6\n",
      "bedTable 0 15 27\n",
      "bedTable 0 25 29\n",
      "bedTable 0 20 4\n",
      "bedTable 0 0 5\n",
      "bedTable 0 10 5\n",
      "bedTable 0 35 25\n",
      "bedTable 0 5 32\n",
      "bedTable 99 30 4\n",
      "bedTable 99 15 27\n",
      "bedTable 99 25 28\n",
      "bedTable 99 20 4\n",
      "bedTable 99 0 4\n",
      "bedTable 99 10 7\n",
      "bedTable 99 35 34\n",
      "bedTable 99 5 28\n",
      "bedChair 0 30 4\n",
      "bedChair 0 15 25\n",
      "bedChair 0 25 28\n",
      "bedChair 0 20 4\n",
      "bedChair 0 0 4\n",
      "bedChair 0 10 6\n",
      "bedChair 0 35 26\n",
      "bedChair 0 5 28\n",
      "bedChair 99 30 5\n",
      "bedChair 99 15 29\n",
      "bedChair 99 25 29\n",
      "bedChair 99 20 5\n",
      "bedChair 99 0 4\n",
      "bedChair 99 10 6\n",
      "bedChair 99 35 28\n",
      "bedChair 99 5 30\n",
      "benchBed 0 30 5\n",
      "benchBed 0 15 30\n",
      "benchBed 0 25 31\n",
      "benchBed 0 20 4\n",
      "benchBed 0 0 5\n",
      "benchBed 0 10 5\n",
      "benchBed 0 35 29\n",
      "benchBed 0 5 28\n",
      "benchBed 99 30 5\n",
      "benchBed 99 15 32\n",
      "benchBed 99 25 26\n",
      "benchBed 99 20 5\n",
      "benchBed 99 0 4\n",
      "benchBed 99 10 4\n",
      "benchBed 99 35 25\n",
      "benchBed 99 5 31\n"
     ]
    }
   ],
   "source": [
    "Obj = []\n",
    "Pose = []\n",
    "Rep = []\n",
    "Path = []\n",
    "for ml in morphlines:\n",
    "    for mn in morphnums:\n",
    "        for vp in viewpoints:\n",
    "            records = db.find({'morphline':ml, 'morphnum':mn, 'viewpoint':vp}).sort('trialNum')\n",
    "            print ml + ' ' + mn + ' ' + vp + ' ' + str(records.count())\n",
    "            for i,r in enumerate(records):\n",
    "                if r['wID'] not in bad_workers:\n",
    "                    try:\n",
    "                        imgData = r['imgData']\n",
    "                        im = Image.open(cStringIO.StringIO(base64.b64decode(imgData)))\n",
    "                        fig = plt.figure(figsize=(8,8))\n",
    "                        p = plt.subplot(1,1,1)\n",
    "                        plt.imshow(im)\n",
    "                        k = p.get_xaxis().set_ticklabels([])\n",
    "                        k = p.get_yaxis().set_ticklabels([])\n",
    "                        k = p.get_xaxis().set_ticks([])\n",
    "                        k = p.get_yaxis().set_ticks([])\n",
    "                        for spine in plt.gca().spines.values():\n",
    "                            spine.set_visible(False) \n",
    "\n",
    "                        obj_ind = get_object_index(ml,int(mn))\n",
    "                        obj_name = get_object_name(2,obj_ind)\n",
    "                        pathdir = os.path.join(save_dir)\n",
    "                        pathfile = os.path.join(save_dir,'{}_{}_{}.png'.format(obj_name,vp,i))\n",
    "                        fig.savefig(pathfile,bbox_inches='tight')  \n",
    "                        print 'Saving to ' + pathfile\n",
    "                        plt.close(fig)        \n",
    "                        Obj.append(obj_name)\n",
    "                        Pose.append(int(vp))\n",
    "                        Rep.append(i)\n",
    "                        Path.append(pathfile)\n",
    "                    except:\n",
    "                        print('Something went wrong with {} {} {}'.format(ml,mn,vp))\n"
   ]
  },
  {
   "cell_type": "code",
   "execution_count": 9,
   "metadata": {},
   "outputs": [],
   "source": [
    "## save out metadata file\n",
    "df = pd.DataFrame([Obj,Pose,Rep,Path])\n",
    "df = df.transpose()\n",
    "df.columns = ['object','viewpoint','instance','path']\n",
    "df.to_csv('baseline_sketches_metadata.csv')"
   ]
  },
  {
   "cell_type": "code",
   "execution_count": null,
   "metadata": {},
   "outputs": [],
   "source": []
  },
  {
   "cell_type": "code",
   "execution_count": null,
   "metadata": {},
   "outputs": [],
   "source": []
  },
  {
   "cell_type": "code",
   "execution_count": null,
   "metadata": {
    "collapsed": true
   },
   "outputs": [],
   "source": []
  }
 ],
 "metadata": {
  "kernelspec": {
   "display_name": "Python 2",
   "language": "python",
   "name": "python2"
  },
  "language_info": {
   "codemirror_mode": {
    "name": "ipython",
    "version": 2
   },
   "file_extension": ".py",
   "mimetype": "text/x-python",
   "name": "python",
   "nbconvert_exporter": "python",
   "pygments_lexer": "ipython2",
   "version": "2.7.12"
  }
 },
 "nbformat": 4,
 "nbformat_minor": 2
}
