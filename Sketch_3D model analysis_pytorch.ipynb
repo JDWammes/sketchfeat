{
 "cells": [
  {
   "cell_type": "code",
   "execution_count": 1,
   "metadata": {
    "collapsed": true
   },
   "outputs": [],
   "source": [
    "from __future__ import division\n",
    "\n",
    "import numpy as np\n",
    "import os\n",
    "from glob import glob\n",
    "import scipy\n",
    "import pickle\n",
    "import utils\n",
    "\n",
    "from PIL import Image\n",
    "from copy import deepcopy\n",
    "\n",
    "from sklearn import linear_model, datasets, neighbors\n",
    "from sklearn.model_selection import train_test_split, cross_val_score\n",
    "from sklearn import svm\n",
    "\n",
    "%matplotlib inline\n",
    "from scipy.misc import imread, imresize\n",
    "import matplotlib.pyplot as plt\n",
    "import matplotlib.image as mpimg\n",
    "\n",
    "import torch\n",
    "import torchvision.models as models\n",
    "import torch.nn as nn\n",
    "import torchvision.transforms as transforms\n",
    "import torch.nn.functional as F\n",
    "from torch.autograd import Variable\n",
    "\n",
    "import pandas as pd"
   ]
  },
  {
   "cell_type": "code",
   "execution_count": 36,
   "metadata": {
    "collapsed": true
   },
   "outputs": [],
   "source": [
    "FURNITURES = ['bed', 'bench', 'chair', 'table']\n",
    "LAYERS = {'pool1': 0, 'pool2': 1, 'pool3': 2, 'pool4': 3,\n",
    "          'pool5': 4, 'fc6': 5, 'fc7': 6} # 'prob': 7} taking out probability layer for now. \n",
    "FURNITURES_label = ['bedChair_1', 'bedChair_100', 'tableBench_1', 'tableBench_100']\n",
    "\n",
    "LAYERS_NM = ['pool1', 'pool2', 'pool3', 'pool4', 'pool5', 'fc6', 'fc7']\n",
    "VGG_SIZE_X = 224\n",
    "VGG_SIZE_Y = 224\n",
    "VGG_SIZE_Z = 3"
   ]
  },
  {
   "cell_type": "code",
   "execution_count": 3,
   "metadata": {
    "collapsed": true
   },
   "outputs": [],
   "source": [
    "# pulling/cleaning up the data\n",
    "\n",
    "# downloading the activations. I had to split the sample (each act has 160 images) because they're about 3GB each. \n",
    "SF = pickle.load(open('/tigress/rslee/SF.p', 'rb'))\n",
    "DF = pickle.load(open('/tigress/rslee/DF.p', 'rb'))"
   ]
  },
  {
   "cell_type": "code",
   "execution_count": 4,
   "metadata": {},
   "outputs": [
    {
     "name": "stdout",
     "output_type": "stream",
     "text": [
      "Number of sketches: 1380\n",
      "Number of subjects: 35\n",
      "Number of photos: 320\n"
     ]
    }
   ],
   "source": [
    "# get labels\n",
    "def list_files(path, ext='png'):\n",
    "    result = [y for x in os.walk(path)\n",
    "              for y in glob(os.path.join(x[0], '*.%s' % ext))]\n",
    "    return result\n",
    "\n",
    "def get_label_from_path(path):\n",
    "    return path.split('.')[-2].split('_')[-1]    \n",
    "\n",
    "def get_trial_from_path(path):\n",
    "    return path.split('_')[-2]\n",
    "\n",
    "def get_subj_from_path(path):\n",
    "    return path.split('/')[-2]\n",
    "\n",
    "# extract metadata\n",
    "path_to_sketches = '/home/rslee/sketch_data'\n",
    "sketch_paths = list_files(path_to_sketches)\n",
    "sketch_labels = map(get_label_from_path,sketch_paths)\n",
    "trialNum = map(get_trial_from_path,sketch_paths)\n",
    "subj = map(get_subj_from_path,sketch_paths)\n",
    "\n",
    "path_to_drawings = '/home/rslee/object_data'\n",
    "photo_paths = list_files(path_to_drawings, ext='png') \n",
    "photo_labels = [p.split('/')[-2] for p in photo_paths]\n",
    "\n",
    "# organize into dataframe\n",
    "S = pd.DataFrame([subj,trialNum,sketch_labels,sketch_paths])\n",
    "S = S.transpose()\n",
    "S.columns = ['subj','trial','label','path']\n",
    "\n",
    "\n",
    "P = pd.DataFrame([photo_labels,photo_paths])\n",
    "P = P.transpose()\n",
    "P.columns = ['class','path']\n",
    "\n",
    "print 'Number of sketches: ' + str(len(sketch_paths))\n",
    "print 'Number of subjects: ' + str(len(np.unique(subj)))\n",
    "\n",
    "\n",
    "print 'Number of photos: ' + str(len(photo_paths))\n",
    "num_photos = len(photo_paths)\n",
    "num_sketches = len(sketch_paths)"
   ]
  },
  {
   "cell_type": "code",
   "execution_count": 5,
   "metadata": {
    "collapsed": true
   },
   "outputs": [],
   "source": [
    "SL = np.array(sketch_labels)\n",
    "DL = np.array([x.lower() for x in photo_labels])\n",
    "## normalize and get means of feature vectors\n",
    "\n",
    "def normalize(X):\n",
    "    X = X - X.mean(0)\n",
    "    X = X / np.maximum(X.std(0), 1e-5)\n",
    "    return X\n",
    "\n",
    "def get_class_means(X, labels):\n",
    "    # load in and normalize features \n",
    "    X = normalize(X)\n",
    "    _mu = np.zeros((len(np.unique(np.asarray(labels))), X.shape[1]), float)\n",
    "    for vi, v in enumerate(np.unique(np.asarray(labels))):\n",
    "        Xv = X[labels == v]\n",
    "        nv = float(Xv.shape[0])\n",
    "        if nv > 0:\n",
    "            _mu[vi] = Xv.mean(0)\n",
    "    return _mu\n",
    "\n",
    "_SF = []\n",
    "for layer in xrange(0,7):\n",
    "    inds = np.argsort(S.label.values)\n",
    "    SF_i = SF[layer]\n",
    "    _SF.append(normalize(SF_i[inds]))\n",
    "_SL = SL[inds]\n",
    "\n",
    "\n",
    "_DF = []\n",
    "for layer in xrange(0,7):\n",
    "    inds = np.argsort(DL)\n",
    "    DF_i = DF[layer]\n",
    "    _DF.append(normalize(DF_i[inds]))\n",
    "_DL = DL[inds]"
   ]
  },
  {
   "cell_type": "code",
   "execution_count": 12,
   "metadata": {},
   "outputs": [],
   "source": [
    "# getting pixel level data \n",
    "\n",
    "SP = np.empty((num_sketches, VGG_SIZE_X * VGG_SIZE_Y* VGG_SIZE_Z), float)\n",
    "SP_i = 0 # used for the batch index \n",
    "for path in sketch_paths: \n",
    "    img = utils.load_image(path)\n",
    "    # take out the fourth dimension, alpha, which controls transparency\n",
    "    img = img[:,:,:3]\n",
    "\n",
    "    img = np.asarray(img.flatten()).reshape(1, VGG_SIZE_X * VGG_SIZE_Y* VGG_SIZE_Z)\n",
    "          \n",
    "    SP[SP_i, :] = img\n",
    "    SP_i += 1 \n",
    "\n",
    "inds = np.argsort(S.label.values)\n",
    "_SP = normalize(SP[inds])\n",
    "\n",
    "DP = np.empty((num_photos, VGG_SIZE_X * VGG_SIZE_Y* VGG_SIZE_Z), float)\n",
    "DP_i = 0 # used for the batch index \n",
    "for path in photo_paths: \n",
    "    img = utils.load_image(path)\n",
    "    img = np.asarray(img.flatten()).reshape(1, VGG_SIZE_X * VGG_SIZE_Y* VGG_SIZE_Z)\n",
    "        \n",
    "    DP[DP_i, :] = img\n",
    "    DP_i += 1 \n",
    "        \n",
    "inds = np.argsort(DL)\n",
    "_DP = normalize(DP[inds])"
   ]
  },
  {
   "cell_type": "code",
   "execution_count": 24,
   "metadata": {},
   "outputs": [],
   "source": [
    "# plot category-level similarity matrix\n",
    "RDM_S = []\n",
    "RDM_S.append(np.corrcoef(get_class_means(_SP, _SL)))\n",
    "for layer in xrange(0,7):\n",
    "    means = get_class_means(_SF[layer], _SL)\n",
    "    RDM_S.append(np.corrcoef(means))\n",
    "    \n",
    "\n",
    "RDM_D = []\n",
    "means = get_class_means(_DP, _DL)\n",
    "means_furn = means[0:4]\n",
    "means_furn[-1] = means[-1]\n",
    "RDM_D.append(np.corrcoef(means_furn))\n",
    "for layer in xrange(0,7):\n",
    "\n",
    "    means = get_class_means(_DF[layer], _DL)\n",
    "    means_furn = means[0:4]\n",
    "    means_furn[-1] = means[-1]\n",
    "\n",
    "    RDM_D.append(np.corrcoef(means_furn))"
   ]
  },
  {
   "cell_type": "code",
   "execution_count": 21,
   "metadata": {
    "collapsed": true
   },
   "outputs": [],
   "source": [
    "def plot_all_RDM(RDM):\n",
    "    fig = plt.figure(1,  figsize=(15, 5), dpi=80, facecolor='w', edgecolor='k')\n",
    "    \n",
    "    plt.subplot(1, 6, 1)\n",
    "    plt.title('Pixel Layer')\n",
    "    plt.imshow(RDM[0], cmap= 'viridis', interpolation = 'none')\n",
    "    plt.yticks(xrange(0,len(FURNITURES)), FURNITURES)\n",
    "    \n",
    "    for pool_layer in xrange(1,6):\n",
    "        pltname = \"Pool \" + str(pool_layer)\n",
    "        plt.subplot(1, 6, pool_layer + 1)\n",
    "        plt.title(pltname)\n",
    "        plt.imshow(RDM[pool_layer], cmap = 'viridis', interpolation='none')\n",
    "        plt.xticks(xrange(0,len(FURNITURES)), FURNITURES, rotation='vertical')\n",
    "\n",
    "\n",
    "\n",
    "    fig2 = plt.figure(2,  figsize=(15, 5), dpi=80, facecolor='w', edgecolor='k')\n",
    "    plt.subplot(121)\n",
    "    plt.imshow(RDM[5], cmap = 'viridis', interpolation='none')\n",
    "    plt.title(\"fc6\")\n",
    "    plt.xticks(xrange(0,len(FURNITURES)), FURNITURES, rotation='vertical')\n",
    "    plt.yticks(xrange(0,len(FURNITURES)), FURNITURES)\n",
    "\n",
    "    plt.subplot(122)\n",
    "    plt.imshow(RDM_S[6],cmap = 'viridis', interpolation='none')\n",
    "    plt.title(\"fc7\")\n",
    "    plt.xticks(xrange(0,len(FURNITURES)), FURNITURES, rotation='vertical')\n",
    "    plt.yticks(xrange(0,len(FURNITURES)), FURNITURES)\n",
    "\n",
    "    cax = fig.add_axes([0.12, 0.1, 0.78, 0.4])\n",
    "    cax.get_xaxis().set_visible(False)\n",
    "    cax.get_yaxis().set_visible(False)\n",
    "    cax.patch.set_alpha(0)\n",
    "    cax.set_frame_on(False)\n",
    "    plt.colorbar(orientation='horizontal', ax=cax)\n",
    "    plt.show()"
   ]
  },
  {
   "cell_type": "code",
   "execution_count": 22,
   "metadata": {},
   "outputs": [
    {
     "data": {
      "image/png": "[encoded data removed]",
      "text/plain": [
       "<matplotlib.figure.Figure at 0x2acd1a27bcd0>"
      ]
     },
     "metadata": {},
     "output_type": "display_data"
    },
    {
     "data": {
      "image/png": "[encoded data removed]",
      "text/plain": [
       "<matplotlib.figure.Figure at 0x2acd22c6bbd0>"
      ]
     },
     "metadata": {},
     "output_type": "display_data"
    }
   ],
   "source": [
    "plot_all_RDM(RDM_S)"
   ]
  },
  {
   "cell_type": "code",
   "execution_count": 25,
   "metadata": {},
   "outputs": [
    {
     "data": {
      "image/png": "[encoded data removed]",
      "text/plain": [
       "<matplotlib.figure.Figure at 0x2acd229d9410>"
      ]
     },
     "metadata": {},
     "output_type": "display_data"
    },
    {
     "data": {
      "image/png": "[encoded data removed]",
      "text/plain": [
       "<matplotlib.figure.Figure at 0x2acd232a7210>"
      ]
     },
     "metadata": {},
     "output_type": "display_data"
    }
   ],
   "source": [
    "plot_all_RDM(RDM_D)"
   ]
  },
  {
   "cell_type": "code",
   "execution_count": 26,
   "metadata": {
    "collapsed": true
   },
   "outputs": [],
   "source": [
    "raw_diff = []\n",
    "for layer in xrange(0,8):\n",
    "    raw_diff.append(np.mean(abs(RDM_S[layer] - RDM_D[layer])))"
   ]
  },
  {
   "cell_type": "code",
   "execution_count": 27,
   "metadata": {},
   "outputs": [
    {
     "name": "stdout",
     "output_type": "stream",
     "text": [
      "pearson coefficient for between domains for layer 0 is 0.845511099192\n",
      "pearson coefficient for between domains for layer 1 is 0.795102288813\n",
      "pearson coefficient for between domains for layer 2 is 0.704676318691\n",
      "pearson coefficient for between domains for layer 3 is 0.698882022685\n",
      "pearson coefficient for between domains for layer 4 is 0.831305899251\n",
      "pearson coefficient for between domains for layer 5 is 0.842236474075\n",
      "pearson coefficient for between domains for layer 6 is 0.716795653567\n",
      "pearson coefficient for between domains for layer 7 is 0.747407064534\n"
     ]
    }
   ],
   "source": [
    "between_domains = []\n",
    "\n",
    "\n",
    "for layer in xrange(0,8):\n",
    "    between_domain_i = np.corrcoef(RDM_S[layer].flatten(), RDM_D[layer].flatten())\n",
    "    between_domains.append(between_domain_i[0, 1])\n",
    "    print(\"pearson coefficient for between domains for layer \" + str(layer) + \" is \" + str(between_domain_i[0, 1]))\n",
    "    "
   ]
  },
  {
   "cell_type": "code",
   "execution_count": null,
   "metadata": {},
   "outputs": [],
   "source": [
    "fig = plt.figure(1,  figsize=(8,8), dpi=80, facecolor='w', edgecolor='k')\n",
    "\n",
    "plt.title(\"Pearson of RDM cross-domain\")\n",
    "plt.plot(xrange(8), between_domains)\n",
    "plt.xlabel('Layers')\n",
    "plt.ylabel('Performance')\n",
    "\n",
    "x_label = LAYERS_NM\n",
    "x_label.insert(0, \"pixels\")\n",
    "\n",
    "plt.xticks(xrange(0,len(LAYERS) + 1), x_label);\n"
   ]
  },
  {
   "cell_type": "code",
   "execution_count": null,
   "metadata": {},
   "outputs": [
    {
     "name": "stdout",
     "output_type": "stream",
     "text": [
      "Accuracy for layer 6.000000: 0.87 (+/- 0.05)\n",
      "Accuracy for layer 5.000000: 0.88 (+/- 0.06)\n"
     ]
    }
   ],
   "source": [
    "\n",
    "layer_score = []\n",
    "\n",
    "# compute cross-validated softmax classifier accuracy \n",
    "# clf = svm.SVC(kernel='linear', C=1)\n",
    "\n",
    "for i in reversed(xrange(0,7)):\n",
    "    clf = linear_model.LogisticRegression(penalty='l2')\n",
    "    scores = cross_val_score(clf, _SF[i], _SL, cv=5)\n",
    "\n",
    "    print(\"Accuracy for layer %f: %0.2f (+/- %0.2f)\" % (i, scores.mean(), scores.std() * 2))\n",
    "    layer_score.append(scores.mean) \n",
    "\n",
    "\n",
    "clf = linear_model.LogisticRegression(penalty='l2')\n",
    "scores = cross_val_score(clf, _SP, _SL, cv=5)\n",
    "layer_score.append()\n",
    "layer_score = reversed(layer_score)\n"
   ]
  },
  {
   "cell_type": "code",
   "execution_count": null,
   "metadata": {
    "collapsed": true
   },
   "outputs": [],
   "source": [
    "# single train/test split\n",
    "\n",
    "for i in reversed(xrange(0,7)):\n",
    "    \n",
    "    X_train, X_test, y_train, y_test = train_test_split(\n",
    "        _SF[i], LABELS, test_size=0.2, random_state=0)\n",
    "    clf = svm.SVC(kernel='linear', C=1).fit(X_train, y_train)\n",
    "    print(\"Score for single trial is %0.2f\" % clf.score(X_test, y_test))\n",
    "\n",
    "clf = linear_model.LogisticRegression(penalty='l2')\n",
    "scores = cross_val_score(clf, _SP, _SL, cv=5)\n",
    "layer_score.append()\n",
    "layer_score = reversed(layer_score)"
   ]
  }
 ],
 "metadata": {
  "kernelspec": {
   "display_name": "Python(pytorch)",
   "language": "python",
   "name": "pytorch"
  }
 },
 "nbformat": 4,
 "nbformat_minor": 2
}
